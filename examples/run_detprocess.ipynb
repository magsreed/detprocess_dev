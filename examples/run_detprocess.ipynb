{
 "cells": [
  {
   "cell_type": "markdown",
   "metadata": {},
   "source": [
    "# Using `detprocess`\n",
    "\n",
    "This example notebook shows the expected usage for `detprocess.process_data`.\n",
    "\n",
    "We start by importing `detprocess`, and we will use `glob` for convenience."
   ]
  },
  {
   "cell_type": "code",
   "execution_count": 1,
   "metadata": {},
   "outputs": [],
   "source": [
    "import detprocess as detp\n",
    "from glob import glob"
   ]
  },
  {
   "cell_type": "markdown",
   "metadata": {},
   "source": [
    "We then need to specify three paths: the full path to the YAML file containing the processing settings, the full path to the folder that containis the data saved by `pytesdaq` that will be loaded and processed, and the full path to the folder that the processed files should be saved to (make sure it exists!)."
   ]
  },
  {
   "cell_type": "code",
   "execution_count": 2,
   "metadata": {},
   "outputs": [],
   "source": [
    "yaml_path = '/path/to/yaml_file.yaml'\n",
    "trigger_path = '/path/to/pytesdaq_data_folder/'\n",
    "save_path = '/path/to/save/processed_data/'"
   ]
  },
  {
   "cell_type": "markdown",
   "metadata": {},
   "source": [
    "To process the data, we use the function `detprocess.process_data`. This function only supports reading a single file at a time, so we must loop through all of the `pytesdaq` files, saving each individual processed file."
   ]
  },
  {
   "cell_type": "code",
   "execution_count": 3,
   "metadata": {},
   "outputs": [],
   "source": [
    "for file in sorted(glob(f\"{trigger_path}/*.hdf5\")):\n",
    "    df_temp = detp.process_data(\n",
    "        file,\n",
    "        yaml_path,\n",
    "        save_path, # pass None if you don't want to save the file (for debugging)\n",
    "#         nevents=10, # process only the first 10 events (for debugging)\n",
    "    )"
   ]
  },
  {
   "cell_type": "markdown",
   "metadata": {},
   "source": [
    "After all files have been processed, then the user can load the data from anywhere with just the path to the folder that contains the processed data, as shown below with the function `detprocess.io.load_features`. With the data loaded, the user can then use these features for their analysis!"
   ]
  },
  {
   "cell_type": "code",
   "execution_count": 4,
   "metadata": {},
   "outputs": [],
   "source": [
    "df = detp.io.load_features(save_path)"
   ]
  },
  {
   "cell_type": "code",
   "execution_count": null,
   "metadata": {},
   "outputs": [],
   "source": []
  }
 ],
 "metadata": {
  "kernelspec": {
   "display_name": "Python 3 (ipykernel)",
   "language": "python",
   "name": "python3"
  },
  "language_info": {
   "codemirror_mode": {
    "name": "ipython",
    "version": 3
   },
   "file_extension": ".py",
   "mimetype": "text/x-python",
   "name": "python",
   "nbconvert_exporter": "python",
   "pygments_lexer": "ipython3",
   "version": "3.9.7"
  }
 },
 "nbformat": 4,
 "nbformat_minor": 4
}
