{
 "cells": [
  {
   "cell_type": "code",
   "execution_count": 1,
   "id": "a3c5895e",
   "metadata": {},
   "outputs": [
    {
     "name": "stderr",
     "output_type": "stream",
     "text": [
      "/usr/lib64/python3.6/importlib/_bootstrap.py:219: RuntimeWarning: numpy.ufunc size changed, may indicate binary incompatibility. Expected 192 from C header, got 216 from PyObject\n",
      "  return f(*args, **kwds)\n",
      "/usr/lib64/python3.6/importlib/_bootstrap.py:219: RuntimeWarning: numpy.ufunc size changed, may indicate binary incompatibility. Expected 192 from C header, got 216 from PyObject\n",
      "  return f(*args, **kwds)\n",
      "/usr/lib64/python3.6/importlib/_bootstrap.py:219: RuntimeWarning: numpy.ufunc size changed, may indicate binary incompatibility. Expected 192 from C header, got 216 from PyObject\n",
      "  return f(*args, **kwds)\n",
      "/usr/lib64/python3.6/importlib/_bootstrap.py:219: RuntimeWarning: numpy.ufunc size changed, may indicate binary incompatibility. Expected 192 from C header, got 216 from PyObject\n",
      "  return f(*args, **kwds)\n",
      "/usr/lib64/python3.6/importlib/_bootstrap.py:219: RuntimeWarning: numpy.ufunc size changed, may indicate binary incompatibility. Expected 192 from C header, got 216 from PyObject\n",
      "  return f(*args, **kwds)\n"
     ]
    }
   ],
   "source": [
    "import numpy as np\n",
    "import pandas as pd\n",
    "import pprint as pprint\n",
    "from detprocess.process import Processing\n",
    "from pytesdaq.io import FilterH5IO\n",
    "import warnings\n",
    "warnings.filterwarnings('ignore')"
   ]
  },
  {
   "cell_type": "code",
   "execution_count": 2,
   "id": "053bcf2e",
   "metadata": {
    "scrolled": true
   },
   "outputs": [
    {
     "name": "stdout",
     "output_type": "stream",
     "text": [
      "INFO: Found total of 394 files from 11 different series number!\n",
      "INFO: Filter file /home/serfass/workspace/processing/filter_r20_dev.hdf5 has been successfully loaded!\n"
     ]
    }
   ],
   "source": [
    "raw_path = '/sdata1/runs/run20/processed/threshtrig_Co_12hr_I2_D20220915_T224645'\n",
    "config_file = '/home/serfass/workspace/processing/process_run20.yaml'\n",
    "myproc = Processing(raw_path, config_file, processing_id='testproc')"
   ]
  },
  {
   "cell_type": "code",
   "execution_count": 3,
   "id": "2618c36c",
   "metadata": {
    "scrolled": true
   },
   "outputs": [
    {
     "name": "stdout",
     "output_type": "stream",
     "text": [
      "INFO: Processing output group path: /sdata1/runs/run20/processed/testproc_feature_I2_D20221219_T171854\n",
      "INFO: Instantiate OF base for each channel!\n",
      "INFO: starting processing series I2_D20220915_T224648\n",
      "INFO: Local number of events = 500 (memory = 0.374128 MB)\n",
      "INFO: Local number of events = 1000 (memory = 0.748128 MB)\n",
      "INFO: Requested nb events reached. Stopping processing!\n",
      "INFO: Feature processing done!\n"
     ]
    }
   ],
   "source": [
    "data = myproc.process(nevents=1000, save_hdf5=True, nb_cores=1)"
   ]
  },
  {
   "cell_type": "code",
   "execution_count": null,
   "id": "8f4df7b2",
   "metadata": {},
   "outputs": [],
   "source": [
    "data_dict = data.to_dict()\n",
    "data_dict"
   ]
  },
  {
   "cell_type": "code",
   "execution_count": null,
   "id": "8c5dcecc",
   "metadata": {},
   "outputs": [],
   "source": [
    "myfilter = FilterH5IO('/home/serfass/workspace/processing/filter_r20_dev.hdf5')\n",
    "filter_data = myfilter.describe()"
   ]
  },
  {
   "cell_type": "code",
   "execution_count": null,
   "id": "2715c5d8",
   "metadata": {},
   "outputs": [],
   "source": [
    "myfilter.plot_psd('CPDv21Ge', fold=True, unit='pA')"
   ]
  },
  {
   "cell_type": "code",
   "execution_count": null,
   "id": "c24ea834",
   "metadata": {},
   "outputs": [],
   "source": []
  }
 ],
 "metadata": {
  "kernelspec": {
   "display_name": "Python 3",
   "language": "python",
   "name": "python3"
  },
  "language_info": {
   "codemirror_mode": {
    "name": "ipython",
    "version": 3
   },
   "file_extension": ".py",
   "mimetype": "text/x-python",
   "name": "python",
   "nbconvert_exporter": "python",
   "pygments_lexer": "ipython3",
   "version": "3.6.8"
  }
 },
 "nbformat": 4,
 "nbformat_minor": 5
}
